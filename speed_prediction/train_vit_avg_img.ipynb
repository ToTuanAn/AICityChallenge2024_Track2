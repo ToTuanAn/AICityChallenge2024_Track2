{
 "cells": [
  {
   "cell_type": "code",
   "execution_count": 1,
   "metadata": {},
   "outputs": [
    {
     "name": "stderr",
     "output_type": "stream",
     "text": [
      "/opt/homebrew/Caskroom/miniforge/base/envs/llama/lib/python3.9/site-packages/bitsandbytes/cextension.py:34: UserWarning: The installed version of bitsandbytes was compiled without GPU support. 8-bit optimizers, 8-bit multiplication, and GPU quantization are unavailable.\n",
      "  warn(\"The installed version of bitsandbytes was compiled without GPU support. \"\n"
     ]
    },
    {
     "name": "stdout",
     "output_type": "stream",
     "text": [
      "'NoneType' object has no attribute 'cadam32bit_grad_fp32'\n"
     ]
    }
   ],
   "source": [
    "import cv2\n",
    "import os\n",
    "import json\n",
    "import numpy as np\n",
    "from PIL import Image\n",
    "from tqdm import tqdm\n",
    "from transformers import AutoImageProcessor, ViTModel, ViTForImageClassification\n",
    "import torch"
   ]
  },
  {
   "cell_type": "code",
   "execution_count": 2,
   "metadata": {},
   "outputs": [
    {
     "data": {
      "text/plain": [
       "[0, 5, 10, 15, 20, 25, 30]"
      ]
     },
     "execution_count": 2,
     "metadata": {},
     "output_type": "execute_result"
    }
   ],
   "source": [
    "training_samples_path = \"/Users/minhnam/Desktop/playground/AICityChallenge2024_Track2/speed_prediction/datasets/avg_img/WTS/train/labels.json\"\n",
    "training_samples_data = json.load(open(training_samples_path))\n",
    "\n",
    "speeds = set()\n",
    "for sample in training_samples_data:\n",
    "    speeds.add(int(sample[\"speed\"]))\n",
    "labels = sorted(list(speeds))\n",
    "labels"
   ]
  },
  {
   "cell_type": "code",
   "execution_count": 3,
   "metadata": {},
   "outputs": [
    {
     "name": "stderr",
     "output_type": "stream",
     "text": [
      "Some weights of ViTForImageClassification were not initialized from the model checkpoint at google/vit-base-patch16-224-in21k and are newly initialized: ['classifier.bias', 'classifier.weight']\n",
      "You should probably TRAIN this model on a down-stream task to be able to use it for predictions and inference.\n"
     ]
    }
   ],
   "source": [
    "image_processor = AutoImageProcessor.from_pretrained(\"google/vit-base-patch16-224-in21k\", cache_dir=\"./cache\")\n",
    "model = ViTForImageClassification.from_pretrained(\n",
    "    \"google/vit-base-patch16-224-in21k\",\n",
    "    cache_dir=\"./cache\",\n",
    "    id2label={str(i): c for i, c in enumerate(labels)},\n",
    "    label2id={c: str(i) for i, c in enumerate(labels)},\n",
    ")"
   ]
  },
  {
   "cell_type": "code",
   "execution_count": 17,
   "metadata": {},
   "outputs": [],
   "source": [
    "from PIL import Image\n",
    "\n",
    "image = Image.open(\"/Users/minhnam/Desktop/playground/AICityChallenge2024_Track2/speed_prediction/dataset/images/20230707_12_SN17_T1_vehicle_view/20230707_12_SN17_T1_vehicle_view_event0_0.jpg\")"
   ]
  },
  {
   "cell_type": "code",
   "execution_count": 18,
   "metadata": {},
   "outputs": [],
   "source": [
    "inputs = image_processor(images=[image, image, image], return_tensors=\"pt\")\n",
    "outputs = model(**inputs, labels=torch.tensor([1, 1, 1]))"
   ]
  },
  {
   "cell_type": "code",
   "execution_count": 19,
   "metadata": {},
   "outputs": [
    {
     "name": "stdout",
     "output_type": "stream",
     "text": [
      "0.29285234212875366 1.0\n",
      "0.4288746416568756 1.0\n",
      "0.4025709629058838 1.0\n",
      "0.3236382305622101 1.0\n",
      "0.25084543228149414 1.0\n",
      "0.23482809960842133 1.0\n",
      "0.2173997014760971 1.0\n",
      "0.20259679853916168 1.0\n",
      "0.18695811927318573 1.0\n",
      "0.17503555119037628 1.0\n"
     ]
    }
   ],
   "source": [
    "optimizer = torch.optim.AdamW(model.parameters(), lr=1e-4)\n",
    "\n",
    "num_epochs = 10\n",
    "for i in range(num_epochs):\n",
    "    outputs = model(**inputs, labels=torch.tensor([1, 1, 1]))\n",
    "    loss = outputs.loss\n",
    "    logits = outputs.logits\n",
    "    accuracy = (logits.argmax(dim=-1) == torch.tensor([1, 1, 1])).float().mean()\n",
    "    \n",
    "    optimizer.zero_grad()\n",
    "    loss.backward()\n",
    "    optimizer.step()\n",
    "    print(loss.item(), accuracy.item())"
   ]
  },
  {
   "cell_type": "code",
   "execution_count": 4,
   "metadata": {},
   "outputs": [],
   "source": [
    "class AvgImgSpeedPredictionDataset(torch.utils.data.Dataset):\n",
    "    def __init__(self, images_dir, labels_path, transform=None):\n",
    "        self.image_paths = []\n",
    "        self.labels = []\n",
    "        self.transform = transform\n",
    "        \n",
    "        # Load labels\n",
    "        with open(labels_path) as f:\n",
    "            labels_data = json.load(f)\n",
    "        \n",
    "        # Create list of image paths and labels\n",
    "        for sample in labels_data:\n",
    "            image_filename = sample[\"image_name\"]\n",
    "            speed = sample[\"speed\"]\n",
    "            \n",
    "            image_path = os.path.join(images_dir, image_filename)\n",
    "            \n",
    "            if not os.path.exists(image_path):\n",
    "                print(f\"Image {image_path} does not exist\")\n",
    "                continue\n",
    "            \n",
    "            self.image_paths.append(image_path)\n",
    "            self.labels.append(speed)\n",
    "        \n",
    "        # Sanity check\n",
    "        assert len(self.image_paths) == len(self.labels)\n",
    "        \n",
    "        label_set = set(self.labels)\n",
    "        self.label_to_idx = {label: idx for idx, label in enumerate(label_set)}\n",
    "        self.idx_to_label = {idx: label for label, idx in self.label_to_idx.items()}\n",
    "        \n",
    "    def __len__(self):\n",
    "        return len(self.labels)\n",
    "\n",
    "    def __getitem__(self, idx):\n",
    "        image = cv2.imread(self.image_paths[idx])\n",
    "        image = cv2.cvtColor(image, cv2.COLOR_BGR2RGB)\n",
    "        label = self.labels[idx]\n",
    "        \n",
    "        if self.transform:\n",
    "            image = self.transform(image)\n",
    "        \n",
    "        return image, torch.tensor(self.label_to_idx[label])"
   ]
  },
  {
   "cell_type": "code",
   "execution_count": 7,
   "metadata": {},
   "outputs": [
    {
     "name": "stdout",
     "output_type": "stream",
     "text": [
      "32611\n"
     ]
    }
   ],
   "source": [
    "dataset = AvgImgSpeedPredictionDataset(\n",
    "    images_dir='./datasets/avg_img/WTS/train/images/',\n",
    "    labels_path='./datasets/avg_img/WTS/train/labels.json',\n",
    ")\n",
    "print(len(dataset))\n",
    "# data loader\n",
    "train_loader = torch.utils.data.DataLoader(\n",
    "    dataset,\n",
    "    batch_size=2,\n",
    "    shuffle=True,\n",
    ")\n",
    "val_loader = torch.utils.data.DataLoader(\n",
    "    dataset,\n",
    "    batch_size=2,\n",
    "    shuffle=False,\n",
    ")"
   ]
  },
  {
   "cell_type": "code",
   "execution_count": 10,
   "metadata": {},
   "outputs": [
    {
     "name": "stdout",
     "output_type": "stream",
     "text": [
      "Epoch 00/01\n"
     ]
    },
    {
     "name": "stderr",
     "output_type": "stream",
     "text": [
      "Loss: 2.0105, Accuracy: 0.0000:   0%|          | 3/16306 [00:02<3:44:58,  1.21it/s]"
     ]
    },
    {
     "name": "stdout",
     "output_type": "stream",
     "text": [
      "Epoch 000, Mean Loss = 2.0105\n",
      "\n",
      "\n"
     ]
    },
    {
     "name": "stderr",
     "output_type": "stream",
     "text": [
      "\n"
     ]
    }
   ],
   "source": [
    "print_every = 100\n",
    "num_epochs = 1\n",
    "device = torch.device(\"cuda\" if torch.cuda.is_available() else \"cpu\")\n",
    "\n",
    "optimizer = torch.optim.AdamW(model.parameters(), lr=1e-4)\n",
    "\n",
    "for i in range(num_epochs):\n",
    "    losses = []\n",
    "    print(f\"Epoch {i:02d}/{num_epochs:02d}\")\n",
    "    \n",
    "    # train\n",
    "    # use tqdm to show progress\n",
    "    pbar = tqdm(enumerate(train_loader), total=len(train_loader))\n",
    "    for j, batch in pbar:\n",
    "        images, labels = batch\n",
    "        inputs = image_processor(images, return_tensors=\"pt\")\n",
    "        inputs = {k: v.to(device) for k, v in inputs.items()}\n",
    "        labels = labels.to(device)\n",
    "        \n",
    "        outputs = model(**inputs, labels=labels)\n",
    "        loss = outputs.loss\n",
    "        logits = outputs.logits\n",
    "        accuracy = (logits.argmax(1) == labels).float().mean()\n",
    "        \n",
    "        optimizer.zero_grad()\n",
    "        loss.backward()\n",
    "        optimizer.step()\n",
    "        losses.append(loss.item())\n",
    "        \n",
    "        pbar.set_description(f\"Loss: {np.mean(losses):.4f}, Accuracy: {accuracy:.4f}\")\n",
    "        \n",
    "    for j, batch in enumerate(val_loader):\n",
    "        images, labels = batch\n",
    "        inputs = image_processor(images, return_tensors=\"pt\")\n",
    "        inputs = {k: v.to(device) for k, v in inputs.items()}\n",
    "        labels = labels.to(device)\n",
    "        \n",
    "        outputs = model(**inputs, labels=labels)\n",
    "        loss = outputs.loss\n",
    "        logits = outputs.logits\n",
    "        accuracy = (logits.argmax(1) == labels).float().mean()\n",
    "        \n",
    "        losses.append(loss.item())\n",
    "\n",
    "    print(f'Epoch {i:03d}, Mean Loss = {np.mean(losses):.4f}\\n\\n')"
   ]
  },
  {
   "cell_type": "code",
   "execution_count": null,
   "metadata": {},
   "outputs": [],
   "source": []
  }
 ],
 "metadata": {
  "kernelspec": {
   "display_name": "llama",
   "language": "python",
   "name": "python3"
  },
  "language_info": {
   "codemirror_mode": {
    "name": "ipython",
    "version": 3
   },
   "file_extension": ".py",
   "mimetype": "text/x-python",
   "name": "python",
   "nbconvert_exporter": "python",
   "pygments_lexer": "ipython3",
   "version": "3.9.16"
  },
  "orig_nbformat": 4
 },
 "nbformat": 4,
 "nbformat_minor": 2
}
