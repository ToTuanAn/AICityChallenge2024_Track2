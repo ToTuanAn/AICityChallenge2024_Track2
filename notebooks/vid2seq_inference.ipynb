{
 "cells": [
  {
   "cell_type": "code",
   "execution_count": 1,
   "metadata": {},
   "outputs": [
    {
     "name": "stdout",
     "output_type": "stream",
     "text": [
      "/home/totuanan/Workplace/AICityChallenge2024_Track2/vid2seq\n"
     ]
    }
   ],
   "source": [
    "%cd /home/totuanan/Workplace/AICityChallenge2024_Track2/vid2seq"
   ]
  },
  {
   "cell_type": "code",
   "execution_count": 2,
   "metadata": {},
   "outputs": [],
   "source": [
    "import os\n",
    "os.environ['pedestrian_ckpt_path']= '/kaggle/input/current-best-pedestrian-model-ckpt/current_best_pedestrian_model.pth'\n",
    "os.environ['vehicle_ckpt_path'] = '/kaggle/input/current-best-vehicle-model-ckpt/current_best_vehicle_model.pth'\n",
    "\n",
    "os.environ['pedestrian_data_path'] ='/home/totuanan/Workplace/AICityChallenge2024_Track2/datasets/public_test/wts'\n",
    "os.environ['vehicle_data_path'] = '/home/totuanan/Workplace/AICityChallenge2024_Track2/datasets/public_test/wts'\n",
    "# os.environ['pedestrian_external_data'] = '/kaggle/input/vehicle-external-data-v0/vehicle_external_data'\n",
    "# os.environ['vehicle_external_data'] = '/kaggle/input/vehicle-external-data-v0/vehicle_external_data'"
   ]
  },
  {
   "cell_type": "code",
   "execution_count": 4,
   "metadata": {},
   "outputs": [
    {
     "name": "stdout",
     "output_type": "stream",
     "text": [
      "mkdir: cannot create directory ‘output’: File exists\n",
      "mkdir: cannot create directory ‘data’: File exists\n",
      "/home/totuanan/Workplace/AICityChallenge2024_Track2/venv/lib/python3.8/site-packages/torch/distributed/launch.py:180: FutureWarning: The module torch.distributed.launch is deprecated\n",
      "and will be removed in future. Use torchrun.\n",
      "Note that --use_env is set by default in torchrun.\n",
      "If your script expects `--local_rank` argument to be set, please\n",
      "change it to read from `os.environ['LOCAL_RANK']` instead. See \n",
      "https://pytorch.org/docs/stable/distributed.html#launch-utility for \n",
      "further instructions\n",
      "\n",
      "  warnings.warn(\n",
      "Processing video 0 / 664\n",
      "Processing video 100 / 664\n",
      "Processing video 200 / 664\n",
      "Processing video 300 / 664\n",
      "Processing video 400 / 664\n",
      "Processing video 500 / 664\n",
      "Processing video 600 / 664\n",
      "Phase 0 inference finished\n",
      "Processing video 0 / 664\n",
      "Processing video 100 / 664\n",
      "Processing video 200 / 664\n",
      "Processing video 300 / 664\n",
      "Processing video 400 / 664\n",
      "Processing video 500 / 664\n",
      "Processing video 600 / 664\n",
      "Phase 1 inference finished\n",
      "Processing video 0 / 664\n",
      "Processing video 100 / 664\n",
      "Processing video 200 / 664\n",
      "Processing video 300 / 664\n",
      "Processing video 400 / 664\n",
      "Processing video 500 / 664\n",
      "Processing video 600 / 664\n",
      "Phase 2 inference finished\n",
      "Processing video 0 / 664\n",
      "Processing video 100 / 664\n",
      "Processing video 200 / 664\n",
      "Processing video 300 / 664\n",
      "Processing video 400 / 664\n",
      "Processing video 500 / 664\n",
      "Processing video 600 / 664\n",
      "Phase 3 inference finished\n",
      "Processing video 0 / 664\n",
      "Processing video 100 / 664\n",
      "Processing video 200 / 664\n",
      "Processing video 300 / 664\n",
      "Processing video 400 / 664\n",
      "Processing video 500 / 664\n",
      "Processing video 600 / 664\n",
      "Phase 4 inference finished\n",
      "Rule config path:  rules_engine/configs/rule_config.yaml\n",
      "Rule mode:  pedestrian\n",
      "Finished pedestrian rules\n",
      "/home/totuanan/Workplace/AICityChallenge2024_Track2/venv/lib/python3.8/site-packages/torch/distributed/launch.py:180: FutureWarning: The module torch.distributed.launch is deprecated\n",
      "and will be removed in future. Use torchrun.\n",
      "Note that --use_env is set by default in torchrun.\n",
      "If your script expects `--local_rank` argument to be set, please\n",
      "change it to read from `os.environ['LOCAL_RANK']` instead. See \n",
      "https://pytorch.org/docs/stable/distributed.html#launch-utility for \n",
      "further instructions\n",
      "\n",
      "  warnings.warn(\n",
      "Processing video 0 / 664\n",
      "Processing video 100 / 664\n",
      "Processing video 200 / 664\n",
      "Processing video 300 / 664\n",
      "Processing video 400 / 664\n",
      "Processing video 500 / 664\n",
      "Processing video 600 / 664\n",
      "Phase 0 inference finished\n",
      "Processing video 0 / 664\n",
      "Processing video 100 / 664\n",
      "Processing video 200 / 664\n",
      "Processing video 300 / 664\n",
      "Processing video 400 / 664\n",
      "Processing video 500 / 664\n",
      "Processing video 600 / 664\n",
      "Phase 1 inference finished\n",
      "Processing video 0 / 664\n",
      "Processing video 100 / 664\n",
      "Processing video 200 / 664\n",
      "Processing video 300 / 664\n",
      "Processing video 400 / 664\n",
      "Processing video 500 / 664\n",
      "Processing video 600 / 664\n",
      "Phase 2 inference finished\n",
      "Processing video 0 / 664\n",
      "Processing video 100 / 664\n",
      "Processing video 200 / 664\n",
      "Processing video 300 / 664\n",
      "Processing video 400 / 664\n",
      "Processing video 500 / 664\n",
      "Processing video 600 / 664\n",
      "Phase 3 inference finished\n",
      "Processing video 0 / 664\n",
      "Processing video 100 / 664\n",
      "Processing video 200 / 664\n",
      "Processing video 300 / 664\n",
      "Processing video 400 / 664\n",
      "Processing video 500 / 664\n",
      "Processing video 600 / 664\n",
      "Phase 4 inference finished\n",
      "Rule config path:  rules_engine/configs/rule_config.yaml\n",
      "Rule mode:  vehicle\n",
      "Finished vehicle rules\n"
     ]
    }
   ],
   "source": [
    "!bash ../scripts/get_submission.sh"
   ]
  }
 ],
 "metadata": {
  "kernelspec": {
   "display_name": "venv",
   "language": "python",
   "name": "python3"
  },
  "language_info": {
   "codemirror_mode": {
    "name": "ipython",
    "version": 3
   },
   "file_extension": ".py",
   "mimetype": "text/x-python",
   "name": "python",
   "nbconvert_exporter": "python",
   "pygments_lexer": "ipython3",
   "version": "3.8.10"
  },
  "orig_nbformat": 4
 },
 "nbformat": 4,
 "nbformat_minor": 2
}
